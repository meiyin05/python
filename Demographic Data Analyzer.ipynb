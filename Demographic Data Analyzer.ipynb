{
 "cells": [
  {
   "cell_type": "markdown",
   "id": "b1d1d758",
   "metadata": {},
   "source": [
    "- How many people of each race are represented in this dataset? This should be a Pandas series with race names as the index labels. (race column)"
   ]
  },
  {
   "cell_type": "code",
   "execution_count": 1,
   "id": "b1de00dc",
   "metadata": {},
   "outputs": [],
   "source": [
    "import pandas as pd\n",
    "import numpy as np"
   ]
  },
  {
   "cell_type": "code",
   "execution_count": 2,
   "id": "c18e6c0e",
   "metadata": {},
   "outputs": [
    {
     "data": {
      "text/html": [
       "<div>\n",
       "<style scoped>\n",
       "    .dataframe tbody tr th:only-of-type {\n",
       "        vertical-align: middle;\n",
       "    }\n",
       "\n",
       "    .dataframe tbody tr th {\n",
       "        vertical-align: top;\n",
       "    }\n",
       "\n",
       "    .dataframe thead th {\n",
       "        text-align: right;\n",
       "    }\n",
       "</style>\n",
       "<table border=\"1\" class=\"dataframe\">\n",
       "  <thead>\n",
       "    <tr style=\"text-align: right;\">\n",
       "      <th></th>\n",
       "      <th>age</th>\n",
       "      <th>workclass</th>\n",
       "      <th>fnlwgt</th>\n",
       "      <th>education</th>\n",
       "      <th>education-num</th>\n",
       "      <th>marital-status</th>\n",
       "      <th>occupation</th>\n",
       "      <th>relationship</th>\n",
       "      <th>race</th>\n",
       "      <th>sex</th>\n",
       "      <th>capital-gain</th>\n",
       "      <th>capital-loss</th>\n",
       "      <th>hours-per-week</th>\n",
       "      <th>native-country</th>\n",
       "      <th>salary</th>\n",
       "    </tr>\n",
       "  </thead>\n",
       "  <tbody>\n",
       "    <tr>\n",
       "      <th>0</th>\n",
       "      <td>39</td>\n",
       "      <td>State-gov</td>\n",
       "      <td>77516</td>\n",
       "      <td>Bachelors</td>\n",
       "      <td>13</td>\n",
       "      <td>Never-married</td>\n",
       "      <td>Adm-clerical</td>\n",
       "      <td>Not-in-family</td>\n",
       "      <td>White</td>\n",
       "      <td>Male</td>\n",
       "      <td>2174</td>\n",
       "      <td>0</td>\n",
       "      <td>40</td>\n",
       "      <td>United-States</td>\n",
       "      <td>&lt;=50K</td>\n",
       "    </tr>\n",
       "    <tr>\n",
       "      <th>1</th>\n",
       "      <td>50</td>\n",
       "      <td>Self-emp-not-inc</td>\n",
       "      <td>83311</td>\n",
       "      <td>Bachelors</td>\n",
       "      <td>13</td>\n",
       "      <td>Married-civ-spouse</td>\n",
       "      <td>Exec-managerial</td>\n",
       "      <td>Husband</td>\n",
       "      <td>White</td>\n",
       "      <td>Male</td>\n",
       "      <td>0</td>\n",
       "      <td>0</td>\n",
       "      <td>13</td>\n",
       "      <td>United-States</td>\n",
       "      <td>&lt;=50K</td>\n",
       "    </tr>\n",
       "    <tr>\n",
       "      <th>2</th>\n",
       "      <td>38</td>\n",
       "      <td>Private</td>\n",
       "      <td>215646</td>\n",
       "      <td>HS-grad</td>\n",
       "      <td>9</td>\n",
       "      <td>Divorced</td>\n",
       "      <td>Handlers-cleaners</td>\n",
       "      <td>Not-in-family</td>\n",
       "      <td>White</td>\n",
       "      <td>Male</td>\n",
       "      <td>0</td>\n",
       "      <td>0</td>\n",
       "      <td>40</td>\n",
       "      <td>United-States</td>\n",
       "      <td>&lt;=50K</td>\n",
       "    </tr>\n",
       "    <tr>\n",
       "      <th>3</th>\n",
       "      <td>53</td>\n",
       "      <td>Private</td>\n",
       "      <td>234721</td>\n",
       "      <td>11th</td>\n",
       "      <td>7</td>\n",
       "      <td>Married-civ-spouse</td>\n",
       "      <td>Handlers-cleaners</td>\n",
       "      <td>Husband</td>\n",
       "      <td>Black</td>\n",
       "      <td>Male</td>\n",
       "      <td>0</td>\n",
       "      <td>0</td>\n",
       "      <td>40</td>\n",
       "      <td>United-States</td>\n",
       "      <td>&lt;=50K</td>\n",
       "    </tr>\n",
       "    <tr>\n",
       "      <th>4</th>\n",
       "      <td>28</td>\n",
       "      <td>Private</td>\n",
       "      <td>338409</td>\n",
       "      <td>Bachelors</td>\n",
       "      <td>13</td>\n",
       "      <td>Married-civ-spouse</td>\n",
       "      <td>Prof-specialty</td>\n",
       "      <td>Wife</td>\n",
       "      <td>Black</td>\n",
       "      <td>Female</td>\n",
       "      <td>0</td>\n",
       "      <td>0</td>\n",
       "      <td>40</td>\n",
       "      <td>Cuba</td>\n",
       "      <td>&lt;=50K</td>\n",
       "    </tr>\n",
       "  </tbody>\n",
       "</table>\n",
       "</div>"
      ],
      "text/plain": [
       "   age         workclass  fnlwgt  education  education-num  \\\n",
       "0   39         State-gov   77516  Bachelors             13   \n",
       "1   50  Self-emp-not-inc   83311  Bachelors             13   \n",
       "2   38           Private  215646    HS-grad              9   \n",
       "3   53           Private  234721       11th              7   \n",
       "4   28           Private  338409  Bachelors             13   \n",
       "\n",
       "       marital-status         occupation   relationship   race     sex  \\\n",
       "0       Never-married       Adm-clerical  Not-in-family  White    Male   \n",
       "1  Married-civ-spouse    Exec-managerial        Husband  White    Male   \n",
       "2            Divorced  Handlers-cleaners  Not-in-family  White    Male   \n",
       "3  Married-civ-spouse  Handlers-cleaners        Husband  Black    Male   \n",
       "4  Married-civ-spouse     Prof-specialty           Wife  Black  Female   \n",
       "\n",
       "   capital-gain  capital-loss  hours-per-week native-country salary  \n",
       "0          2174             0              40  United-States  <=50K  \n",
       "1             0             0              13  United-States  <=50K  \n",
       "2             0             0              40  United-States  <=50K  \n",
       "3             0             0              40  United-States  <=50K  \n",
       "4             0             0              40           Cuba  <=50K  "
      ]
     },
     "execution_count": 2,
     "metadata": {},
     "output_type": "execute_result"
    }
   ],
   "source": [
    "data = pd.read_csv('adult.data.csv')\n",
    "data.head()"
   ]
  },
  {
   "cell_type": "code",
   "execution_count": 4,
   "id": "d53e7dd7",
   "metadata": {},
   "outputs": [
    {
     "data": {
      "text/plain": [
       "White                 27816\n",
       "Black                  3124\n",
       "Asian-Pac-Islander     1039\n",
       "Amer-Indian-Eskimo      311\n",
       "Other                   271\n",
       "Name: race, dtype: int64"
      ]
     },
     "execution_count": 4,
     "metadata": {},
     "output_type": "execute_result"
    }
   ],
   "source": [
    "data['race'].value_counts()"
   ]
  },
  {
   "cell_type": "markdown",
   "id": "658e9cba",
   "metadata": {},
   "source": [
    "- What is the average age of men?"
   ]
  },
  {
   "cell_type": "code",
   "execution_count": 29,
   "id": "1dc65765",
   "metadata": {},
   "outputs": [],
   "source": [
    "df = data.groupby('sex').age.mean()"
   ]
  },
  {
   "cell_type": "code",
   "execution_count": 33,
   "id": "196aa0de",
   "metadata": {},
   "outputs": [
    {
     "name": "stdout",
     "output_type": "stream",
     "text": [
      "The average age of men is: 39.43.\n"
     ]
    }
   ],
   "source": [
    "print(f\"The average age of men is: {df[1]:.2f}.\")"
   ]
  },
  {
   "cell_type": "markdown",
   "id": "c7f8cd29",
   "metadata": {},
   "source": [
    "- What is the percentage of people who have a Bachelor's degree?"
   ]
  },
  {
   "cell_type": "code",
   "execution_count": 45,
   "id": "65078ece",
   "metadata": {},
   "outputs": [
    {
     "name": "stdout",
     "output_type": "stream",
     "text": [
      "The percentage of people who have a Bachelor's degree is: 16.45%\n"
     ]
    }
   ],
   "source": [
    "result = data.groupby('education').get_group('Bachelors')\n",
    "education = data['education']\n",
    "percentage_bachelor = len(result)/len(education)*100\n",
    "print(f\"The percentage of people who have a Bachelor's degree is: {percentage_bachelor:.2f}%\")"
   ]
  },
  {
   "cell_type": "markdown",
   "id": "78c08afd",
   "metadata": {},
   "source": [
    "- What percentage of people with advanced education (Bachelors, Masters, or Doctorate) make more than 50K?"
   ]
  },
  {
   "cell_type": "code",
   "execution_count": 3,
   "id": "b0f0413d",
   "metadata": {},
   "outputs": [
    {
     "name": "stdout",
     "output_type": "stream",
     "text": [
      "The percentage of people with advanced education making more than 50K is: 0.00%\n"
     ]
    }
   ],
   "source": [
    "advanced_education = ['Bachelors', 'Masters', 'Doctorate']\n",
    "filtered_data = data[data['education'].isin(advanced_education) & (data['salary'] == '>50k')]\n",
    "\n",
    "percentage = (len(filtered_data) / (len(data[data['education'].isin(advanced_education)])))*100\n",
    "\n",
    "print(f'The percentage of people with advanced education making more than 50K is: {percentage:.2f}%')"
   ]
  },
  {
   "cell_type": "markdown",
   "id": "b084b588",
   "metadata": {},
   "source": [
    "- What percentage of people without advanced education make more than 50K?"
   ]
  },
  {
   "cell_type": "code",
   "execution_count": 4,
   "id": "6b8eb4ee",
   "metadata": {},
   "outputs": [
    {
     "name": "stdout",
     "output_type": "stream",
     "text": [
      "The percentage of people without advanced education making more than 50K is: 17.37%\n"
     ]
    }
   ],
   "source": [
    "advanced_education = ['Bachelors', 'Masters', 'Doctorate']\n",
    "\n",
    "# Filter the DataFrame for people with education levels other than advanced education and income >50K\n",
    "filtered_df = data[~data['education'].isin(advanced_education) & (data['salary'] == '>50K')]\n",
    "\n",
    "# Calculate the percentage\n",
    "total_without_advanced_education = len(data[~data['education'].isin(advanced_education)])\n",
    "percentage = (len(filtered_df) / total_without_advanced_education) * 100\n",
    "\n",
    "print(f\"The percentage of people without advanced education making more than 50K is: {percentage:.2f}%\")"
   ]
  },
  {
   "cell_type": "markdown",
   "id": "05b1596d",
   "metadata": {},
   "source": [
    "- What is the minimum number of hours a person works per week?"
   ]
  },
  {
   "cell_type": "code",
   "execution_count": 117,
   "id": "61e4c969",
   "metadata": {},
   "outputs": [
    {
     "data": {
      "text/plain": [
       "1"
      ]
     },
     "execution_count": 117,
     "metadata": {},
     "output_type": "execute_result"
    }
   ],
   "source": [
    "data['hours-per-week'].min()"
   ]
  },
  {
   "cell_type": "markdown",
   "id": "1a8b9e70",
   "metadata": {},
   "source": [
    "- What percentage of the people who work the minimum number of hours per week have a salary of more than 50K?"
   ]
  },
  {
   "cell_type": "code",
   "execution_count": 7,
   "id": "a471b7d8",
   "metadata": {},
   "outputs": [
    {
     "name": "stdout",
     "output_type": "stream",
     "text": [
      "The percentage of peoplework the minimum number of hours per week have a salary of more than 50K is: 10.00%\n"
     ]
    }
   ],
   "source": [
    "advanced_education = ['Bachelors', 'Masters', 'Doctorate']\n",
    "\n",
    "# Filter the DataFrame for people with education levels other than advanced education and income >50K\n",
    "filtered = data[(data['hours-per-week'] == 1) & (data['salary'] == '>50K')]\n",
    "\n",
    "# Calculate the percentage\n",
    "work_hour = len(data[data['hours-per-week'] == 1])\n",
    "percentage_1 = (len(filtered) / work_hour) * 100\n",
    "\n",
    "print(f\"The percentage of peoplework the minimum number of hours per week have a salary of more than 50K is: {percentage_1:.2f}%\")"
   ]
  },
  {
   "cell_type": "markdown",
   "id": "f9ed7bfc",
   "metadata": {},
   "source": [
    "- What country has the highest percentage of people that earn >50K and what is that percentage?"
   ]
  },
  {
   "cell_type": "code",
   "execution_count": 19,
   "id": "5fb59354",
   "metadata": {},
   "outputs": [
    {
     "name": "stdout",
     "output_type": "stream",
     "text": [
      "The country with the highest percentage of people earning >50K is Iran with 41.86%.\n"
     ]
    }
   ],
   "source": [
    "country_income_percentage = data.groupby('native-country')['salary'].apply(lambda x: (x == '>50K').mean() * 100)\n",
    "\n",
    "# Find the country with the highest percentage\n",
    "highest_country = country_income_percentage.idxmax()\n",
    "highest_percentage = country_income_percentage.max()\n",
    "\n",
    "print(f\"The country with the highest percentage of people earning >50K is {highest_country} with {highest_percentage:.2f}%.\")"
   ]
  },
  {
   "cell_type": "markdown",
   "id": "48656251",
   "metadata": {},
   "source": [
    "- Identify the most popular occupation for those who earn >50K in India."
   ]
  },
  {
   "cell_type": "code",
   "execution_count": 28,
   "id": "5679b853",
   "metadata": {},
   "outputs": [
    {
     "name": "stdout",
     "output_type": "stream",
     "text": [
      "The most popular occupation for those earning >50K in India is: Prof-specialty\n"
     ]
    }
   ],
   "source": [
    "filtered_2 = data[(data['salary'] == '>50K') & (data['native-country'] == 'India')]\n",
    "\n",
    "# Calculate the most popular occupation\n",
    "most_popular_occupation = filtered_2['occupation'].mode().values[0]\n",
    "\n",
    "print(f\"The most popular occupation for those earning >50K in India is: {most_popular_occupation}\")"
   ]
  }
 ],
 "metadata": {
  "kernelspec": {
   "display_name": "Python 3 (ipykernel)",
   "language": "python",
   "name": "python3"
  },
  "language_info": {
   "codemirror_mode": {
    "name": "ipython",
    "version": 3
   },
   "file_extension": ".py",
   "mimetype": "text/x-python",
   "name": "python",
   "nbconvert_exporter": "python",
   "pygments_lexer": "ipython3",
   "version": "3.11.3"
  }
 },
 "nbformat": 4,
 "nbformat_minor": 5
}
